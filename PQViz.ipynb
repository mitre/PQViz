{
 "cells": [
  {
   "cell_type": "markdown",
   "metadata": {},
   "source": [
    "# CODI Prevelance Query (PQ) Results Visualization\n",
    "\n",
    "\n",
    "## Background - PQ algorithm\n",
    "\n",
    "[CODI-PQ](https://github.com/NORC-UChicago/CODI-PQ) is a program for weight-status-category prevalence based on BMI, and results can be stratified by age, sex, race and geography. PQViz can support the simple output of both PQ (Youth and Teens) and APQ (Adults). This notebook supports outputs from CODI-PQ run individually with no conditions.\n",
    "\n",
    "## PQViz Purpose\n",
    "\n",
    "This tool allows researchers to conduct post-processing and data visualization of CODI-PQ output. It is intended to be used **after** a data set has been processed with CODI-PQ.\n",
    "\n",
    "PQViz is a [Jupyter Notebook](https://jupyter.org/). It provides an environment that includes graphical user interfaces as well as interactive software development to explore data. To achieve this, PQViz uses different software languages and packages:\n",
    "\n",
    "  * The [Python programming language](https://www.python.org/) is used to import, transform, visualize and analyze the output of growthcleanr. Some of the code for the tool is directly included in this notebook. Other functions have been placed in external files to minimize the amount of code that users see in order to let them focus on the actual data.\n",
    "  \n",
    "  * Data analysis is performed using [NumPy](https://numpy.org/) and [Pandas](https://pandas.pydata.org/). The output of PQViz will be loaded into a [Pandas DataFrame](https://pandas.pydata.org/pandas-docs/stable/reference/api/pandas.DataFrame.html). It is expected that users will create views into or copies of the DataFrames built initially by this tool. Adding columns to the DataFrames created by this tool is unlikely to cause problems. Removing columns is likely to break some of the tool's functionality.\n",
    "   \n",
    "  * Visualization in the tool is provided by [Matplotlib](https://matplotlib.org/) and [Seaborn](http://seaborn.pydata.org/). Users may generate their own charts with these utilities.\n",
    "  \n",
    "  * Mapping support is provided by [GeoPandas](https://geopandas.org/en/stable/) and [ipyleaflet](https://ipyleaflet.readthedocs.io/en/latest/)."
   ]
  },
  {
   "cell_type": "markdown",
   "metadata": {},
   "source": [
    "# Setting Up the Environment\n",
    "\n",
    "Jupyter Notebooks have documentation cells, such as this one, and code cells, like the one below. The notebook server runs any code cells and provides results back in the notebook. The following code cell loads the libraries necessary for the tool to work. If you would like to incorporate other Python libraries to assist in data exploration, they can be added here. Removing libraries from this cell will very likely break the tool."
   ]
  },
  {
   "cell_type": "code",
   "execution_count": null,
   "metadata": {},
   "outputs": [],
   "source": [
    "from pathlib import Path\n",
    "import warnings\n",
    "\n",
    "from ipywidgets import fixed, interact, interactive, interact_manual\n",
    "import ipywidgets as widgets\n",
    "from IPython.display import display, HTML\n",
    "import matplotlib as mpl\n",
    "import matplotlib.pyplot as plt\n",
    "import matplotlib.ticker as mticker\n",
    "import numpy as np\n",
    "import pandas as pd\n",
    "import seaborn as sns\n",
    "import us"
   ]
  },
  {
   "cell_type": "markdown",
   "metadata": {},
   "source": [
    "The next two code cells tell the notebook server to automatically reload the externally defined Python functions created to assist in data analysis."
   ]
  },
  {
   "cell_type": "code",
   "execution_count": null,
   "metadata": {},
   "outputs": [],
   "source": [
    "%load_ext autoreload"
   ]
  },
  {
   "cell_type": "code",
   "execution_count": null,
   "metadata": {},
   "outputs": [],
   "source": [
    "%autoreload 2"
   ]
  },
  {
   "cell_type": "markdown",
   "metadata": {},
   "source": [
    "This code cell instructs the notebook to automatically display plots inline."
   ]
  },
  {
   "cell_type": "code",
   "execution_count": null,
   "metadata": {},
   "outputs": [],
   "source": [
    "%matplotlib inline"
   ]
  },
  {
   "cell_type": "markdown",
   "metadata": {},
   "source": [
    "This code cell tells the notebook to output plots for high DPI displays, such as 4K monitors, many smartphones or a retina display on Apple hardware. This cell does not need to be run and can be safely removed. If removed, charts will look more \"blocky\" or \"pixelated\" on high DPI displays."
   ]
  },
  {
   "cell_type": "code",
   "execution_count": null,
   "metadata": {},
   "outputs": [],
   "source": [
    "%config InlineBackend.figure_format = 'retina'"
   ]
  },
  {
   "cell_type": "markdown",
   "metadata": {},
   "source": [
    "The following cell configures the look and feel of PQViz charts and data views for clarity. It also sets the visual palette to use a set of color-blind hues, and includes the District of Columbia in the list of state boundaries for map rendering."
   ]
  },
  {
   "cell_type": "code",
   "execution_count": null,
   "metadata": {},
   "outputs": [],
   "source": [
    "warnings.filterwarnings('ignore')\n",
    "pd.set_option('display.max_colwidth', -1)\n",
    "pd.set_option('display.max_rows', 500)\n",
    "dpi = 300\n",
    "mpl.rcParams['figure.dpi']= dpi\n",
    "sns.set_style('white')\n",
    "sns.set_palette(\"colorblind\")\n",
    "current_palette = sns.color_palette()\n",
    "sns.set_context(\"notebook\")\n",
    "if us.states.DC not in us.STATES:\n",
    "    us.STATES.append(us.states.DC)"
   ]
  },
  {
   "cell_type": "markdown",
   "metadata": {},
   "source": [
    "## Loading Data\n",
    "\n",
    "This code cell imports functions created for the tool to assist in data analysis. Some of the functions generate charts used in this tool. The chart code may be modified to change the appearance of plots without too much risk of breaking things. Other functions transform DataFrames and changing those will very likely cause things to break. If you are unable to tell the difference in the functions by looking at the code, it is probably best to leave them unmodified."
   ]
  },
  {
   "cell_type": "code",
   "execution_count": null,
   "metadata": {},
   "outputs": [],
   "source": [
    "from pqviz import check_suppressed\n",
    "from pqviz import create_dataframes\n",
    "from pqviz import maps\n",
    "from pqviz import plots"
   ]
  },
  {
   "cell_type": "markdown",
   "metadata": {},
   "source": [
    "The following cell defines the folder location of your CODI-PQ outputs. To organize results, use different folders for each of the different parameters to compare. For example, to compare prevalence values by race, group the different CODI-PQ results files created into its own folder. Then specify that folder here, in the next cell. To look at a different comparison using another parameter, group those results in another folder, then change the cell below to point to that second folder and re-run all the cells below this one.\n",
    "\n",
    "By default, PQViz includes sample synthetic data for testing and verification. To review your own data, fill in the path in below with the location of your folder of CODI-PQ results."
   ]
  },
  {
   "cell_type": "code",
   "execution_count": null,
   "metadata": {},
   "outputs": [],
   "source": [
    "results_folder = Path(\"./sample_data/zcta3/\")"
   ]
  },
  {
   "cell_type": "markdown",
   "metadata": {},
   "source": [
    "### Specify Data Details\n",
    "\n",
    "The cell below sets up options which let you specify details about the CODI-PQ result files in the folder you specified above. When it runs, you should see a set of menus to choose from: \n",
    "\n",
    "* Select the demographic across which you are comparing. The demographic is set to `sex` as the default, but you can choose a different one from the drop down. The options are `sex`, `race`, `state`, `zcta3`, and `age`. \n",
    "\n",
    "* Select the State you are analyzing. \n",
    "\n",
    "* Select whether this is Pediatric or Adult data."
   ]
  },
  {
   "cell_type": "code",
   "execution_count": null,
   "metadata": {
    "tags": [
     "hide-input"
    ]
   },
   "outputs": [],
   "source": [
    "# Taken from https://stackoverflow.com/questions/31517194/how-to-hide-one-specific-cell-input-or-output-in-ipython-notebook\n",
    "tag = HTML('''<script>\n",
    "code_show=true; \n",
    "function code_toggle() {\n",
    "    if (code_show){\n",
    "        $('div.cell.code_cell.rendered.selected div.input').hide();\n",
    "    } else {\n",
    "        $('div.cell.code_cell.rendered.selected div.input').show();\n",
    "    }\n",
    "    code_show = !code_show\n",
    "} \n",
    "$( document ).ready(code_toggle);\n",
    "</script>\n",
    "To show/hide this cell's raw code input, click <a href=\"javascript:code_toggle()\">here</a>.''')\n",
    "display(tag)\n",
    "\n",
    "style = dict(description_width=\"150px\")\n",
    "demographic_type = \"zcta3\"\n",
    "demo_drop_down = widgets.Dropdown(options=[\"sex\", \"race\", \"age\", \"zcta3\"],\n",
    "                                  value=demographic_type,\n",
    "                                  description=\"Demographic Type:\",\n",
    "                                  disabled=False,\n",
    "                                  style=style)\n",
    "\n",
    "def dropdown_handler_demo(change):\n",
    "    global demographic_type\n",
    "    demographic_type = change.new  \n",
    "    return demographic_type\n",
    "\n",
    "demo_drop_down.observe(dropdown_handler_demo, names=\"value\")\n",
    "\n",
    "selected_state = \"NC\"\n",
    "state_options = sorted([(s.name, s.abbr) for s in us.STATES])\n",
    "state_drop_down = widgets.Dropdown(options=state_options,\n",
    "                                   value=selected_state,\n",
    "                                   description=\"State:\",\n",
    "                                   disabled=False,\n",
    "                                   style=style)\n",
    "\n",
    "def dropdown_handler_state(change):\n",
    "    global selected_state\n",
    "    selected_state = change.new  \n",
    "    return selected_state\n",
    "\n",
    "state_drop_down.observe(dropdown_handler_state,\n",
    "                  names='value')\n",
    "\n",
    "population_group = \"Pediatric\"\n",
    "pop_group_drop_down = widgets.Dropdown(options=[\"Pediatric\", \"Adult\"],\n",
    "                                       description=\"Population Group:\",\n",
    "                                       disabled=False,\n",
    "                                       style=style)\n",
    "\n",
    "def dropdown_handler_pop_group(change):\n",
    "    global population_group\n",
    "    population_group = change.new  \n",
    "    return population_group\n",
    "\n",
    "pop_group_drop_down.observe(dropdown_handler_pop_group, names=\"value\")\n",
    "\n",
    "display(demo_drop_down)\n",
    "display(state_drop_down)\n",
    "display(pop_group_drop_down)"
   ]
  },
  {
   "cell_type": "markdown",
   "metadata": {},
   "source": [
    "The next cell will confirm the demographic options you selected."
   ]
  },
  {
   "cell_type": "code",
   "execution_count": null,
   "metadata": {
    "scrolled": true
   },
   "outputs": [],
   "source": [
    "print(f\"Demographic Type: {demographic_type}\")\n",
    "print(f\"State: {selected_state}\")\n",
    "print(f\"Population Group: {population_group}\")"
   ]
  },
  {
   "cell_type": "markdown",
   "metadata": {},
   "source": [
    "### Transforming the data\n",
    "\n",
    "The following cells prepare data for analysis based on the data location and options you selected."
   ]
  },
  {
   "cell_type": "code",
   "execution_count": null,
   "metadata": {},
   "outputs": [],
   "source": [
    "prev_data = create_dataframes.create_prevalence_df(file_path=results_folder,\n",
    "                                                   population_group=population_group)"
   ]
  },
  {
   "cell_type": "code",
   "execution_count": null,
   "metadata": {},
   "outputs": [],
   "source": [
    "pop_data = create_dataframes.create_population_df(results_folder, population_group)"
   ]
  },
  {
   "cell_type": "markdown",
   "metadata": {},
   "source": [
    "## Suppressed Data\n",
    "\n",
    "\n",
    "As indicated in the CODI PQ [implementation guide](https://github.com/NORC-UChicago/CODI-PQ) (see section __Section A.9__), the query will automatically suppress data if any of these factors have been met:\n",
    "\n",
    "* Sample size is less than 30\n",
    "* Absolute confidence interval width greater than or equal to 0.30\n",
    "* Absolute confidence interval width is between 0.05 and 0.30 and the relative confidence interval width is more than 130%\n",
    "\n",
    "The implementation guide also highlights:\n",
    "\n",
    "> \"The Presentation Standards also provide guidance for identifying results for statistical review, CODI-PQ does not identify records for statistical review and leave this step for the user.\"\n",
    "\n",
    "It is up to each researcher to decide which results to share and how best to do so. To highlight whether data has been suppressed by CODI-PQ, in this section PQViz provides an overview of any data that has been suppressed. The table below shows all the full count of suppressed data within each weight category. Each section below also details the missing values for that prevalence type. If there are no suppressed values in your dataset, you should see the message _\"There are no suppressed values for this demographic level\"_."
   ]
  },
  {
   "cell_type": "code",
   "execution_count": null,
   "metadata": {},
   "outputs": [],
   "source": [
    "check_suppressed.check_suppressed(prev_data, \"state\")"
   ]
  },
  {
   "cell_type": "markdown",
   "metadata": {},
   "source": [
    "## Sample and Population"
   ]
  },
  {
   "cell_type": "markdown",
   "metadata": {},
   "source": [
    "In this section, we plot the population size of these groups from PQ. \n",
    "\n",
    "The CODI PQ [implementation guide](https://github.com/NORC-UChicago/CODI-PQ) (see __Section F.1__) explains:\n",
    "\n",
    "* Population: The weighted (or adjusted) count of the study population. It uses the American Community Survey.\n",
    "* Sample: The observed (or unadjusted, or crude) count of youth and teens in the study population. This is reflects the data given to CODI-PQ.\n",
    "\n",
    "Below, select demographic type as well as whether or not to look at the population or the sample. A plot of the numbers for each BMI Category should display, and will update whenever different options are selected."
   ]
  },
  {
   "cell_type": "code",
   "execution_count": null,
   "metadata": {
    "scrolled": false
   },
   "outputs": [],
   "source": [
    "demo_dropdown_options = pop_data[demographic_type].unique()\n",
    "pop_type_drowdown_options = pop_data[\"Population type\"].unique()\n",
    "style = dict(description_width=\"100px\")\n",
    "interact(plots.plot_pop,\n",
    "         sam_type=widgets.Dropdown(options=pop_type_drowdown_options, \n",
    "                                   description=\"Sample Type:\"),\n",
    "         selected_demo=widgets.Dropdown(options=demo_dropdown_options, \n",
    "                                        description= \"{}:\".format(str.capitalize(demographic_type))), \n",
    "         demographic_type=fixed(demographic_type),\n",
    "         population_group=fixed(population_group),\n",
    "         df=fixed(pop_data));"
   ]
  },
  {
   "cell_type": "markdown",
   "metadata": {},
   "source": [
    "## Plotting Prevalence"
   ]
  },
  {
   "cell_type": "markdown",
   "metadata": {},
   "source": [
    "In this section we plot the prevalance values in CODI-PQ results.\n",
    "\n",
    "Below, select demographic type as well as whether to look at the population or the sample. A plot of the numbers for each BMI Category should appear, and should update with any further changes to the selected options.\n",
    "\n",
    "The CODI PQ [implementation guide](https://github.com/NORC-UChicago/CODI-PQ) (see __Section F.1__) describes each prevalence type as:\n",
    "\n",
    "* **Crude Prevalence**: The observed (or unadjusted, or crude) prevalence in the study population.\n",
    "* **Weighted Prevalence**: Prevalence based on weighted counts. A sample weight is assigned to each sample patient. It is a measure of the number of youth and teens or adults in the population represented by that sample patient. See implementation guide, Appendix A. Sample Weights for more information.\n",
    "* **Age-Adjusted Prevalence**: Prevalence based on weighted, age-adjusted counts. See implementation guide, Appendix A. Age Adjustment for more information.\n",
    "\n",
    "The standard error for each prevalence is calculated with the CODI-PQ and is plotted with error bars. "
   ]
  },
  {
   "cell_type": "code",
   "execution_count": null,
   "metadata": {},
   "outputs": [],
   "source": [
    "demo_dropdown_options = prev_data[demographic_type].unique()\n",
    "prev_type_drowdown_options = prev_data[\"Prevalence type\"].unique()\n",
    "style = dict(description_width=\"100px\")\n",
    "interact(plots.plot_prevalence, \n",
    "         selected_demo=widgets.Dropdown(\n",
    "             options=demo_dropdown_options,\n",
    "             description=\"{}:\".format(str.capitalize(demographic_type)),\n",
    "             style=style), \n",
    "         prevalence_type = widgets.Dropdown(\n",
    "             options=prev_type_drowdown_options, \n",
    "             description=\"Prevalence Type: \",\n",
    "             style=style),\n",
    "         demographic_type=fixed(demographic_type),\n",
    "         population_group=fixed(population_group),\n",
    "         df=fixed(prev_data));"
   ]
  },
  {
   "cell_type": "markdown",
   "metadata": {},
   "source": [
    "## Crude prevalence measures from CDC PLACES\n",
    "\n",
    "The [CDC PLACES](https://www.cdc.gov/places/index.html) data can provide context to analysis of local data such as the output of CODI-PQ. It provides \"model-based population-level analysis and community estimates\" of many health indicators, including Obesity.\n",
    "\n",
    "The [PLACES data set](https://chronicdata.cdc.gov/500-Cities-Places/PLACES-ZCTA-Data-GIS-Friendly-Format-2020-release/bdsk-unrd) provides crude prevalence estimates along with estimated confidence intervals for dozens of indicators, taken from adult (18 years old or older) subjects. Because of this, its value here is for background and developeing a broader picture of the health of the region, rather than direct comparison. This is especially true if you are assessing pediatric data.\n",
    "\n",
    "The PLACES data set is bundled with PQViz for convenience. The map below will show crude prevalence measures from PLACES for the state you selected above."
   ]
  },
  {
   "cell_type": "code",
   "execution_count": null,
   "metadata": {},
   "outputs": [],
   "source": [
    "measure_options = sorted([n for n, c, d in maps.PLACES_MEASURES])\n",
    "mdd = widgets.Dropdown(options=measure_options,\n",
    "                       description=\"PLACES Measure:\",\n",
    "                       disabled=False,\n",
    "                       style={\"description_width\": \"165px\"})\n",
    "interact(maps.choropleth_map_places, selected_state=fixed(selected_state), selected_measure=mdd);"
   ]
  },
  {
   "cell_type": "markdown",
   "metadata": {},
   "source": [
    "The map should zoom to your state when it loads. Click on any ZCTA shown to see its crude prevalence value, which will appear under the map."
   ]
  },
  {
   "cell_type": "markdown",
   "metadata": {},
   "source": [
    "## Prevalence by Location\n",
    "\n",
    "If you are looking at CODI-PQ results grouped by ZCTA, the map call below should show your data by ZCTA.\n",
    "\n",
    "Note that the map below will show values grouped at the ZCTA3 level, rather than the finer-grained ZCTA5 level shown in the CDC PLACES data in the map directly above.\n",
    "\n",
    "Areas of the map filled with light grey represent ZCTA3 areas without values present in the data. Areas filled with  dark grey represent ZCTA3 areas with suppressed data."
   ]
  },
  {
   "cell_type": "code",
   "execution_count": null,
   "metadata": {},
   "outputs": [],
   "source": [
    "category_options = sorted(prev_data['Weight Category'].unique())\n",
    "category_dropdown = widgets.Dropdown(options=category_options,\n",
    "                                     description=\"Weight Category:\",\n",
    "                                     disabled=False,\n",
    "                                     style={\"description_width\": \"165px\"})\n",
    "prevalence_type_dropdown = widgets.Dropdown(options=prev_type_drowdown_options,\n",
    "                                           description=\"Prevalence Type:\",\n",
    "                                           disabled=False,\n",
    "                                           style={\"description_width\": \"165px\"})\n",
    "interact(maps.choropleth_map_pq, \n",
    "         selected_state=fixed(selected_state), \n",
    "         df=fixed(prev_data),\n",
    "         category=category_dropdown,\n",
    "         prevalence_type=prevalence_type_dropdown);"
   ]
  }
 ],
 "metadata": {
  "celltoolbar": "Edit Metadata",
  "kernelspec": {
   "display_name": "Python 3 (ipykernel)",
   "language": "python",
   "name": "python3"
  },
  "language_info": {
   "codemirror_mode": {
    "name": "ipython",
    "version": 3
   },
   "file_extension": ".py",
   "mimetype": "text/x-python",
   "name": "python",
   "nbconvert_exporter": "python",
   "pygments_lexer": "ipython3",
   "version": "3.9.9"
  }
 },
 "nbformat": 4,
 "nbformat_minor": 2
}
